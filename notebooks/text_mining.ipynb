{
 "cells": [
  {
   "cell_type": "code",
   "execution_count": 1,
   "id": "d0202b69-524f-4e77-9ba6-156a6854012b",
   "metadata": {},
   "outputs": [],
   "source": [
    "import sqlite3\n",
    "import requests\n"
   ]
  },
  {
   "cell_type": "code",
   "execution_count": 5,
   "id": "a72646af",
   "metadata": {},
   "outputs": [
    {
     "name": "stdout",
     "output_type": "stream",
     "text": [
      "0\n"
     ]
    }
   ],
   "source": [
    "EXAMPLES = \"\"\"\n",
    "        Example 1: \"Barnadråp i Gävle\" -> Infanticide.\n",
    "        Example 2: \"29-åring knivhuggen och senare avliden i Sundsvall ca 2 mån sen\" -> Stabbing.\n",
    "        Example 3: \"Nyheter i Stan\" -> No crime\n",
    "        Example 4: \"Poliser ska ha ny uniform snart\" -> No crime\n",
    "        Example 5: \"Misshandel i Nordstan utreds av polisen\" -> Assault. \n",
    "        Example 6: \"Polisen bombhotades\" -> bomb threat\n",
    "        Example 7: \"Katter halshuggna, gärningsmän ska straffas\" -> Animal abuse\n",
    "        Example 8: \"'Skottlossning i Malmö i natt'.\"\n",
    "    \"\"\"\n",
    "\n",
    "\n",
    "def create_prompts(threads: list) -> list[tuple[str]]:\n",
    "    return [(\n",
    "        thread[0],\n",
    "        f\"{EXAMPLES}\\nDoes the following Swedish sentence contain a crime? Reply strictly with the identified crime or 'No crime' and nothing else:\\n'{thread[0]}'\"\n",
    "        )\n",
    "        for thread in threads\n",
    "        ]\n",
    "\n",
    "def gpt4all_request(prompt: str) -> str:\n",
    "   r = requests.post(\"http://localhost:4891/v1/chat/completions\", \n",
    "              json={\n",
    "                  \"model\": \"Phi-3 Mini Instruct\",\n",
    "                  \"messages\": [{\"role\": \"user\", \"content\": prompt}],\n",
    "                  \"max_tokens\": 10,\n",
    "                  \"temperature\": 0.28\n",
    "                  })\n",
    "   r = r.json()\n",
    "   return r['choices'][0]['message']['content']\n",
    "\n",
    "\n",
    "def main():\n",
    "    conn = sqlite3.connect(\"../data/forum.db\")    \n",
    "\n",
    "    c = conn.cursor()\n",
    "\n",
    "    c.execute(\"\"\"\n",
    "              CREATE TABLE IF NOT EXISTS crimes (\n",
    "               promp STRING,\n",
    "               crime STRING\n",
    "              )\n",
    "            \"\"\"\n",
    "              )\n",
    "    \n",
    "    c.execute(\"SELECT title FROM posts;\")\n",
    "\n",
    "    while True:\n",
    "        batch = c.fetchmany(5)\n",
    "        print(len(batch))\n",
    "        if not batch:\n",
    "            break\n",
    "        prompts: list[tuple[str]] = create_prompts(batch)\n",
    "        \n",
    "        for prompt in prompts:\n",
    "            pass\n",
    "            crime = gpt4all_request(prompt[1])\n",
    "            print(f\"---\\nPROMPT:\\n{prompt[0]}\\nCRIME:{crime}\\n---\\n\")\n",
    "            c.execute(\"\"\"INSERT INTO crimes values (?,?)\"\"\", (prompt[0], crime))\n",
    "        conn.commit()\n",
    "    conn.close()\n",
    "            \n",
    "main()\n"
   ]
  }
 ],
 "metadata": {
  "kernelspec": {
   "display_name": "signal-sifter",
   "language": "python",
   "name": "python3"
  },
  "language_info": {
   "codemirror_mode": {
    "name": "ipython",
    "version": 3
   },
   "file_extension": ".py",
   "mimetype": "text/x-python",
   "name": "python",
   "nbconvert_exporter": "python",
   "pygments_lexer": "ipython3",
   "version": "3.12.3"
  }
 },
 "nbformat": 4,
 "nbformat_minor": 5
}
