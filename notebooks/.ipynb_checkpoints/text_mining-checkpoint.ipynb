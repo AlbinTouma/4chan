{
 "cells": [
  {
   "cell_type": "code",
   "execution_count": 86,
   "id": "d0202b69-524f-4e77-9ba6-156a6854012b",
   "metadata": {},
   "outputs": [],
   "source": [
    "import pandas as pd\n",
    "import sqlite3\n",
    "import spacy\n",
    "from spacy.lang.sv.examples import sentences\n",
    "import json"
   ]
  },
  {
   "cell_type": "code",
   "execution_count": 109,
   "id": "81615879-bce1-4a00-a6bf-09e5dac0648b",
   "metadata": {},
   "outputs": [],
   "source": [
    "def crime_location(row: tuple, nlp):\n",
    "    doc = nlp(f'{row}')\n",
    "    for ent in doc.ents:\n",
    "        if ent.label_ == \"LOC\": print(ent.text, ent.label_)\n",
    "\n",
    "def extract_crimes(row, nlp):\n",
    "    doc = nlp(f'{row}')\n",
    "    with open(\"crimes.json\", \"r\") as file:\n",
    "        crime_keywords = json.load(file)\n",
    "\n",
    "    matched_crimes = []\n",
    "    threshold = 0.7\n",
    "    \n",
    "    for token in doc:\n",
    "        for category, references in crime_keywords.items():\n",
    "            for ref in references:\n",
    "                ref_token = nlp(ref)[0]\n",
    "                if token.similarity(ref_token) > threshold:\n",
    "                    matched_crimes.append((token.text, category))\n",
    "                   \n",
    "    print(f'Sentence {row} \\n Crimes Found {matched_crimes}')\n",
    "    "
   ]
  },
  {
   "cell_type": "code",
   "execution_count": 108,
   "id": "e80ad6bb-53d3-43ad-8c80-e054aaa20967",
   "metadata": {},
   "outputs": [
    {
     "name": "stderr",
     "output_type": "stream",
     "text": [
      "/tmp/ipykernel_1914190/2210443025.py:18: UserWarning: [W007] The model you're using has no word vectors loaded, so the result of the Token.similarity method will be based on the tagger, parser and NER, which may not give useful similarity judgements. This may happen if you're using one of the small models, e.g. `en_core_web_sm`, which don't ship with word vectors and only use context-sensitive tensors. You can always add your own word vectors, or use one of the larger models instead if available.\n",
      "  if token.similarity(ref_token) > threshold:\n"
     ]
    },
    {
     "name": "stdout",
     "output_type": "stream",
     "text": [
      "Sentence ('♦·♦·♦ Läs detta innan du postar! ♦·♦·♦',) \n",
      " Crimes Found []\n",
      "Sentence ('Vem kan detta vara?',) \n",
      " Crimes Found []\n",
      "Sentence ('Porrklubbsägare med vapen',) \n",
      " Crimes Found []\n",
      "Sentence ('Vilka är mäklarna?',) \n",
      " Crimes Found [('mäklarna', 'stöldbrott')]\n",
      "Sentence ('Barnadråp i Gävle',) \n",
      " Crimes Found [('Barnadråp', 'våldsbrott')]\n",
      "Sentence ('Drogad och våldtagen i Spanien',) \n",
      " Crimes Found []\n",
      "Sentence ('Katter halshuggna, gärningsmän ska straffas',) \n",
      " Crimes Found []\n",
      "Sentence ('Lägervakter i florida misshandlar till döds.',) \n",
      " Crimes Found [('misshandlar', 'våldsbrott')]\n",
      "Sentence ('29-åring knivhuggen och senare avliden i Sundvall ca 2 mån sen',) \n",
      " Crimes Found [('avliden', 'våldsbrott'), ('avliden', 'stöldbrott')]\n",
      "Sentence ('Stockholm är värre än bagdad',) \n",
      " Crimes Found []\n"
     ]
    }
   ],
   "source": [
    "con = sqlite3.connect(\"../data/forum.db\")\n",
    "cur = con.cursor()\n",
    "nlp = spacy.load(\"sv_core_news_sm\")\n",
    "for row in cur.execute(\"SELECT title FROM POSTS LIMIT 10\"):\n",
    "    extract_crimes(row, nlp)\n",
    "\n"
   ]
  },
  {
   "cell_type": "code",
   "execution_count": null,
   "id": "0aa715c9-0603-441f-9130-ed39d8c60aec",
   "metadata": {},
   "outputs": [],
   "source": [
    "cur.close()"
   ]
  },
  {
   "cell_type": "code",
   "execution_count": null,
   "id": "e25139ca-c285-4380-b90a-76532a1d5ffc",
   "metadata": {},
   "outputs": [],
   "source": []
  }
 ],
 "metadata": {
  "kernelspec": {
   "display_name": "Python 3 (ipykernel)",
   "language": "python",
   "name": "python3"
  },
  "language_info": {
   "codemirror_mode": {
    "name": "ipython",
    "version": 3
   },
   "file_extension": ".py",
   "mimetype": "text/x-python",
   "name": "python",
   "nbconvert_exporter": "python",
   "pygments_lexer": "ipython3",
   "version": "3.10.12"
  }
 },
 "nbformat": 4,
 "nbformat_minor": 5
}
