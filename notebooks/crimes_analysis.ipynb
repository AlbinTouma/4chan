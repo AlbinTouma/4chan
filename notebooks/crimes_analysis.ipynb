{
 "cells": [
  {
   "cell_type": "code",
   "execution_count": 26,
   "metadata": {},
   "outputs": [],
   "source": [
    "import sqlite3\n",
    "import pandas as pd\n",
    "from random import sample"
   ]
  },
  {
   "cell_type": "markdown",
   "metadata": {},
   "source": [
    "# Evaluate model\n",
    "\n",
    "In this notebook we evaluate our crime model. The models' success rate is measured by evaluating the number of correct crimes in a randomised sample of prompts and crimes for each crime type identified (n=10)."
   ]
  },
  {
   "cell_type": "code",
   "execution_count": 68,
   "metadata": {},
   "outputs": [],
   "source": [
    "conn = sqlite3.connect(\"../data/forum.db\")    \n",
    "c = conn.cursor()\n",
    "\n",
    "ls: list[tuple] = [row \n",
    " for row in c.execute(\"SELECT * FROM crimes;\")\n",
    "   ]\n",
    "\n",
    "df =pd.DataFrame(ls, columns=['prompt', 'crime'])\n",
    "df['crime'] = df['crime'].apply(lambda x: x.strip())"
   ]
  },
  {
   "cell_type": "code",
   "execution_count": 72,
   "metadata": {},
   "outputs": [
    {
     "data": {
      "text/plain": [
       "'No crime.'"
      ]
     },
     "execution_count": 72,
     "metadata": {},
     "output_type": "execute_result"
    }
   ],
   "source": [
    "df['crime'][0]"
   ]
  },
  {
   "cell_type": "code",
   "execution_count": 102,
   "metadata": {},
   "outputs": [],
   "source": [
    "def random_samples(df) -> list[pd.DataFrame]:\n",
    "    common_crimes = ['No crime.', 'Assault.', 'Arson.', 'Infanticide.']\n",
    "    dictionary = {}\n",
    "    for crime in common_crimes:\n",
    "        dictionary[crime] = df.query(f'crime == \"{crime}\"').sample(10)\n",
    "    \n",
    "    return dictionary\n",
    "\n",
    "randomised_dfs = random_samples(df)\n",
    "\n"
   ]
  },
  {
   "cell_type": "code",
   "execution_count": 119,
   "metadata": {},
   "outputs": [
    {
     "data": {
      "text/html": [
       "<div>\n",
       "<style scoped>\n",
       "    .dataframe tbody tr th:only-of-type {\n",
       "        vertical-align: middle;\n",
       "    }\n",
       "\n",
       "    .dataframe tbody tr th {\n",
       "        vertical-align: top;\n",
       "    }\n",
       "\n",
       "    .dataframe thead th {\n",
       "        text-align: right;\n",
       "    }\n",
       "</style>\n",
       "<table border=\"1\" class=\"dataframe\">\n",
       "  <thead>\n",
       "    <tr style=\"text-align: right;\">\n",
       "      <th></th>\n",
       "      <th>prompt</th>\n",
       "      <th>crime</th>\n",
       "    </tr>\n",
       "  </thead>\n",
       "  <tbody>\n",
       "    <tr>\n",
       "      <th>1031</th>\n",
       "      <td>Svensk misstänkt för tyskt rekordrån</td>\n",
       "      <td>No crime.</td>\n",
       "    </tr>\n",
       "    <tr>\n",
       "      <th>1146</th>\n",
       "      <td>Skulle säljas – som sexslav pa malta svensk fo...</td>\n",
       "      <td>No crime.</td>\n",
       "    </tr>\n",
       "    <tr>\n",
       "      <th>3618</th>\n",
       "      <td>♦·♦·♦ Läs detta innan du postar! ♦·♦·♦</td>\n",
       "      <td>No crime.</td>\n",
       "    </tr>\n",
       "    <tr>\n",
       "      <th>1808</th>\n",
       "      <td>Gäng i Boden?</td>\n",
       "      <td>No crime.</td>\n",
       "    </tr>\n",
       "    <tr>\n",
       "      <th>668</th>\n",
       "      <td>Vad vet vi om Utpressarligan med bas i Västerås</td>\n",
       "      <td>No crime.</td>\n",
       "    </tr>\n",
       "    <tr>\n",
       "      <th>492</th>\n",
       "      <td>Annorluna polisärenden?</td>\n",
       "      <td>No crime.</td>\n",
       "    </tr>\n",
       "    <tr>\n",
       "      <th>264</th>\n",
       "      <td>England betalar dömda utlänningar för att åka hem</td>\n",
       "      <td>No crime.</td>\n",
       "    </tr>\n",
       "    <tr>\n",
       "      <th>325</th>\n",
       "      <td>Sverige om 10 år.</td>\n",
       "      <td>No crime.</td>\n",
       "    </tr>\n",
       "    <tr>\n",
       "      <th>1617</th>\n",
       "      <td>Stora tomtelandsbluffen i England</td>\n",
       "      <td>No crime.</td>\n",
       "    </tr>\n",
       "    <tr>\n",
       "      <th>1507</th>\n",
       "      <td>Är det samme läkare?</td>\n",
       "      <td>No crime.</td>\n",
       "    </tr>\n",
       "  </tbody>\n",
       "</table>\n",
       "</div>"
      ],
      "text/plain": [
       "                                                 prompt      crime\n",
       "1031               Svensk misstänkt för tyskt rekordrån  No crime.\n",
       "1146  Skulle säljas – som sexslav pa malta svensk fo...  No crime.\n",
       "3618             ♦·♦·♦ Läs detta innan du postar! ♦·♦·♦  No crime.\n",
       "1808                                      Gäng i Boden?  No crime.\n",
       "668     Vad vet vi om Utpressarligan med bas i Västerås  No crime.\n",
       "492                             Annorluna polisärenden?  No crime.\n",
       "264   England betalar dömda utlänningar för att åka hem  No crime.\n",
       "325                                   Sverige om 10 år.  No crime.\n",
       "1617                  Stora tomtelandsbluffen i England  No crime.\n",
       "1507                               Är det samme läkare?  No crime."
      ]
     },
     "execution_count": 119,
     "metadata": {},
     "output_type": "execute_result"
    }
   ],
   "source": [
    "randomised_dfs['No crime.']\n",
    "#10/10 "
   ]
  },
  {
   "cell_type": "markdown",
   "metadata": {},
   "source": [
    "There are no false positives in No Crime. Likely higher in a larger sample."
   ]
  },
  {
   "cell_type": "code",
   "execution_count": 118,
   "metadata": {},
   "outputs": [
    {
     "data": {
      "text/html": [
       "<div>\n",
       "<style scoped>\n",
       "    .dataframe tbody tr th:only-of-type {\n",
       "        vertical-align: middle;\n",
       "    }\n",
       "\n",
       "    .dataframe tbody tr th {\n",
       "        vertical-align: top;\n",
       "    }\n",
       "\n",
       "    .dataframe thead th {\n",
       "        text-align: right;\n",
       "    }\n",
       "</style>\n",
       "<table border=\"1\" class=\"dataframe\">\n",
       "  <thead>\n",
       "    <tr style=\"text-align: right;\">\n",
       "      <th></th>\n",
       "      <th>prompt</th>\n",
       "      <th>crime</th>\n",
       "    </tr>\n",
       "  </thead>\n",
       "  <tbody>\n",
       "    <tr>\n",
       "      <th>2267</th>\n",
       "      <td>Våldtogs på möhippa?</td>\n",
       "      <td>Assault.</td>\n",
       "    </tr>\n",
       "    <tr>\n",
       "      <th>978</th>\n",
       "      <td>Naken man i rånarluva ofredar joggande kvinnor</td>\n",
       "      <td>Assault.</td>\n",
       "    </tr>\n",
       "    <tr>\n",
       "      <th>1819</th>\n",
       "      <td>\"Palestina\"-arab skjuter 2 st israeler i Danma...</td>\n",
       "      <td>Assault.</td>\n",
       "    </tr>\n",
       "    <tr>\n",
       "      <th>3639</th>\n",
       "      <td>TV-pejlare misshandlad</td>\n",
       "      <td>Assault.</td>\n",
       "    </tr>\n",
       "    <tr>\n",
       "      <th>2425</th>\n",
       "      <td>Brott i balingsnäs/handen?</td>\n",
       "      <td>Assault.</td>\n",
       "    </tr>\n",
       "    <tr>\n",
       "      <th>2690</th>\n",
       "      <td>Allvarlig knivskärning i uppsala</td>\n",
       "      <td>Assault.</td>\n",
       "    </tr>\n",
       "    <tr>\n",
       "      <th>2285</th>\n",
       "      <td>Medborgargarde manglar våldtäktsman - slipper ...</td>\n",
       "      <td>Assault.</td>\n",
       "    </tr>\n",
       "    <tr>\n",
       "      <th>2506</th>\n",
       "      <td>24-årig man åtalas för grov kvinnofridskränkni...</td>\n",
       "      <td>Assault.</td>\n",
       "    </tr>\n",
       "    <tr>\n",
       "      <th>1546</th>\n",
       "      <td>Polisen i Markaryd ingriper mot brottsligheten...</td>\n",
       "      <td>Assault.</td>\n",
       "    </tr>\n",
       "    <tr>\n",
       "      <th>2205</th>\n",
       "      <td>Polis våldtog dotter i sthlm</td>\n",
       "      <td>Assault.</td>\n",
       "    </tr>\n",
       "  </tbody>\n",
       "</table>\n",
       "</div>"
      ],
      "text/plain": [
       "                                                 prompt     crime\n",
       "2267                               Våldtogs på möhippa?  Assault.\n",
       "978      Naken man i rånarluva ofredar joggande kvinnor  Assault.\n",
       "1819  \"Palestina\"-arab skjuter 2 st israeler i Danma...  Assault.\n",
       "3639                             TV-pejlare misshandlad  Assault.\n",
       "2425                         Brott i balingsnäs/handen?  Assault.\n",
       "2690                   Allvarlig knivskärning i uppsala  Assault.\n",
       "2285  Medborgargarde manglar våldtäktsman - slipper ...  Assault.\n",
       "2506  24-årig man åtalas för grov kvinnofridskränkni...  Assault.\n",
       "1546  Polisen i Markaryd ingriper mot brottsligheten...  Assault.\n",
       "2205                       Polis våldtog dotter i sthlm  Assault."
      ]
     },
     "execution_count": 118,
     "metadata": {},
     "output_type": "execute_result"
    }
   ],
   "source": [
    "randomised_dfs['Assault.']"
   ]
  },
  {
   "cell_type": "markdown",
   "metadata": {},
   "source": [
    "There is 1 false positive in our sample and from the 9 true positives we see that the model makes no differentiation between sexual assault and assault. "
   ]
  },
  {
   "cell_type": "code",
   "execution_count": 120,
   "metadata": {},
   "outputs": [
    {
     "data": {
      "text/html": [
       "<div>\n",
       "<style scoped>\n",
       "    .dataframe tbody tr th:only-of-type {\n",
       "        vertical-align: middle;\n",
       "    }\n",
       "\n",
       "    .dataframe tbody tr th {\n",
       "        vertical-align: top;\n",
       "    }\n",
       "\n",
       "    .dataframe thead th {\n",
       "        text-align: right;\n",
       "    }\n",
       "</style>\n",
       "<table border=\"1\" class=\"dataframe\">\n",
       "  <thead>\n",
       "    <tr style=\"text-align: right;\">\n",
       "      <th></th>\n",
       "      <th>prompt</th>\n",
       "      <th>crime</th>\n",
       "    </tr>\n",
       "  </thead>\n",
       "  <tbody>\n",
       "    <tr>\n",
       "      <th>2518</th>\n",
       "      <td>Vilka är det som vill elda upp garaget? [Umeå]</td>\n",
       "      <td>Arson.</td>\n",
       "    </tr>\n",
       "    <tr>\n",
       "      <th>634</th>\n",
       "      <td>Polisen ringer och sabbar</td>\n",
       "      <td>Arson.</td>\n",
       "    </tr>\n",
       "    <tr>\n",
       "      <th>3583</th>\n",
       "      <td>Rånare skjuten i benet / Lycksele</td>\n",
       "      <td>Arson.</td>\n",
       "    </tr>\n",
       "    <tr>\n",
       "      <th>879</th>\n",
       "      <td>Flertalet anlagda bränder i Smålandstenar</td>\n",
       "      <td>Arson.</td>\n",
       "    </tr>\n",
       "    <tr>\n",
       "      <th>2720</th>\n",
       "      <td>Anlagd brand Enköping</td>\n",
       "      <td>Arson.</td>\n",
       "    </tr>\n",
       "    <tr>\n",
       "      <th>3014</th>\n",
       "      <td>Brand på rest. Järngrytan i Partille 14/10</td>\n",
       "      <td>Arson.</td>\n",
       "    </tr>\n",
       "    <tr>\n",
       "      <th>2594</th>\n",
       "      <td>Rån mot Exhange i Södertälje</td>\n",
       "      <td>Arson.</td>\n",
       "    </tr>\n",
       "    <tr>\n",
       "      <th>3458</th>\n",
       "      <td>Ängelholmare fast med k-pist</td>\n",
       "      <td>Arson.</td>\n",
       "    </tr>\n",
       "    <tr>\n",
       "      <th>2457</th>\n",
       "      <td>Misstänkt pyroman häktad i Linköping</td>\n",
       "      <td>Arson.</td>\n",
       "    </tr>\n",
       "    <tr>\n",
       "      <th>2119</th>\n",
       "      <td>Pappan försökte elda upp familjen</td>\n",
       "      <td>Arson.</td>\n",
       "    </tr>\n",
       "  </tbody>\n",
       "</table>\n",
       "</div>"
      ],
      "text/plain": [
       "                                              prompt   crime\n",
       "2518  Vilka är det som vill elda upp garaget? [Umeå]  Arson.\n",
       "634                        Polisen ringer och sabbar  Arson.\n",
       "3583               Rånare skjuten i benet / Lycksele  Arson.\n",
       "879        Flertalet anlagda bränder i Smålandstenar  Arson.\n",
       "2720                           Anlagd brand Enköping  Arson.\n",
       "3014      Brand på rest. Järngrytan i Partille 14/10  Arson.\n",
       "2594                    Rån mot Exhange i Södertälje  Arson.\n",
       "3458                    Ängelholmare fast med k-pist  Arson.\n",
       "2457            Misstänkt pyroman häktad i Linköping  Arson.\n",
       "2119               Pappan försökte elda upp familjen  Arson."
      ]
     },
     "execution_count": 120,
     "metadata": {},
     "output_type": "execute_result"
    }
   ],
   "source": [
    "randomised_dfs['Arson.']"
   ]
  }
 ],
 "metadata": {
  "kernelspec": {
   "display_name": "signal-sifter",
   "language": "python",
   "name": "python3"
  },
  "language_info": {
   "codemirror_mode": {
    "name": "ipython",
    "version": 3
   },
   "file_extension": ".py",
   "mimetype": "text/x-python",
   "name": "python",
   "nbconvert_exporter": "python",
   "pygments_lexer": "ipython3",
   "version": "3.12.3"
  }
 },
 "nbformat": 4,
 "nbformat_minor": 2
}
